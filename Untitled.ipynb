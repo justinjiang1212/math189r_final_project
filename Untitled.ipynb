{
 "cells": [
  {
   "cell_type": "code",
   "execution_count": 1,
   "metadata": {},
   "outputs": [],
   "source": [
    "import pandas as pd\n",
    "import numpy as np\n",
    "import tensorflow as tf"
   ]
  },
  {
   "cell_type": "code",
   "execution_count": 2,
   "metadata": {},
   "outputs": [],
   "source": [
    "raw_data = pd.read_csv('/Users/andyliu/Downloads/trump_filtered.csv')"
   ]
  },
  {
   "cell_type": "code",
   "execution_count": 3,
   "metadata": {},
   "outputs": [
    {
     "data": {
      "text/html": [
       "<div>\n",
       "<style scoped>\n",
       "    .dataframe tbody tr th:only-of-type {\n",
       "        vertical-align: middle;\n",
       "    }\n",
       "\n",
       "    .dataframe tbody tr th {\n",
       "        vertical-align: top;\n",
       "    }\n",
       "\n",
       "    .dataframe thead th {\n",
       "        text-align: right;\n",
       "    }\n",
       "</style>\n",
       "<table border=\"1\" class=\"dataframe\">\n",
       "  <thead>\n",
       "    <tr style=\"text-align: right;\">\n",
       "      <th></th>\n",
       "      <th>date</th>\n",
       "      <th>article</th>\n",
       "    </tr>\n",
       "  </thead>\n",
       "  <tbody>\n",
       "    <tr>\n",
       "      <th>0</th>\n",
       "      <td>2018-01-26 00:00:00</td>\n",
       "      <td>DAVOS, Switzerland (Reuters) - U.S. President ...</td>\n",
       "    </tr>\n",
       "    <tr>\n",
       "      <th>1</th>\n",
       "      <td>2017-03-02 00:00:00</td>\n",
       "      <td>China is dismissing unfavorable media reports ...</td>\n",
       "    </tr>\n",
       "    <tr>\n",
       "      <th>2</th>\n",
       "      <td>2016-09-08 15:40:02</td>\n",
       "      <td>Nancy Pelosi is getting visions of reclaiming ...</td>\n",
       "    </tr>\n",
       "    <tr>\n",
       "      <th>3</th>\n",
       "      <td>2017-01-11 23:10:01</td>\n",
       "      <td>The nonpartisan director of the federal Office...</td>\n",
       "    </tr>\n",
       "    <tr>\n",
       "      <th>4</th>\n",
       "      <td>2018-07-12 00:00:00</td>\n",
       "      <td>BRUSSELS (Reuters) - U.S. President Donald Tru...</td>\n",
       "    </tr>\n",
       "  </tbody>\n",
       "</table>\n",
       "</div>"
      ],
      "text/plain": [
       "                  date                                            article\n",
       "0  2018-01-26 00:00:00  DAVOS, Switzerland (Reuters) - U.S. President ...\n",
       "1  2017-03-02 00:00:00  China is dismissing unfavorable media reports ...\n",
       "2  2016-09-08 15:40:02  Nancy Pelosi is getting visions of reclaiming ...\n",
       "3  2017-01-11 23:10:01  The nonpartisan director of the federal Office...\n",
       "4  2018-07-12 00:00:00  BRUSSELS (Reuters) - U.S. President Donald Tru..."
      ]
     },
     "execution_count": 3,
     "metadata": {},
     "output_type": "execute_result"
    }
   ],
   "source": [
    "raw_data.head()"
   ]
  },
  {
   "cell_type": "code",
   "execution_count": 4,
   "metadata": {},
   "outputs": [
    {
     "data": {
      "text/html": [
       "<div>\n",
       "<style scoped>\n",
       "    .dataframe tbody tr th:only-of-type {\n",
       "        vertical-align: middle;\n",
       "    }\n",
       "\n",
       "    .dataframe tbody tr th {\n",
       "        vertical-align: top;\n",
       "    }\n",
       "\n",
       "    .dataframe thead th {\n",
       "        text-align: right;\n",
       "    }\n",
       "</style>\n",
       "<table border=\"1\" class=\"dataframe\">\n",
       "  <thead>\n",
       "    <tr style=\"text-align: right;\">\n",
       "      <th></th>\n",
       "      <th>date</th>\n",
       "      <th>article</th>\n",
       "    </tr>\n",
       "  </thead>\n",
       "  <tbody>\n",
       "    <tr>\n",
       "      <th>0</th>\n",
       "      <td>2018-01-26 00:00:00</td>\n",
       "      <td>DAVOS, Switzerland (Reuters) - U.S. President ...</td>\n",
       "    </tr>\n",
       "    <tr>\n",
       "      <th>1</th>\n",
       "      <td>2017-03-02 00:00:00</td>\n",
       "      <td>China is dismissing unfavorable media reports ...</td>\n",
       "    </tr>\n",
       "    <tr>\n",
       "      <th>2</th>\n",
       "      <td>2016-09-08 15:40:02</td>\n",
       "      <td>Nancy Pelosi is getting visions of reclaiming ...</td>\n",
       "    </tr>\n",
       "    <tr>\n",
       "      <th>3</th>\n",
       "      <td>2017-01-11 23:10:01</td>\n",
       "      <td>The nonpartisan director of the federal Office...</td>\n",
       "    </tr>\n",
       "    <tr>\n",
       "      <th>4</th>\n",
       "      <td>2018-07-12 00:00:00</td>\n",
       "      <td>BRUSSELS (Reuters) - U.S. President Donald Tru...</td>\n",
       "    </tr>\n",
       "  </tbody>\n",
       "</table>\n",
       "</div>"
      ],
      "text/plain": [
       "                 date                                            article\n",
       "0 2018-01-26 00:00:00  DAVOS, Switzerland (Reuters) - U.S. President ...\n",
       "1 2017-03-02 00:00:00  China is dismissing unfavorable media reports ...\n",
       "2 2016-09-08 15:40:02  Nancy Pelosi is getting visions of reclaiming ...\n",
       "3 2017-01-11 23:10:01  The nonpartisan director of the federal Office...\n",
       "4 2018-07-12 00:00:00  BRUSSELS (Reuters) - U.S. President Donald Tru..."
      ]
     },
     "execution_count": 4,
     "metadata": {},
     "output_type": "execute_result"
    }
   ],
   "source": [
    "raw_data['date'] =pd.to_datetime(raw_data.date)\n",
    "raw_data.head()"
   ]
  },
  {
   "cell_type": "code",
   "execution_count": 6,
   "metadata": {},
   "outputs": [
    {
     "data": {
      "text/html": [
       "<div>\n",
       "<style scoped>\n",
       "    .dataframe tbody tr th:only-of-type {\n",
       "        vertical-align: middle;\n",
       "    }\n",
       "\n",
       "    .dataframe tbody tr th {\n",
       "        vertical-align: top;\n",
       "    }\n",
       "\n",
       "    .dataframe thead th {\n",
       "        text-align: right;\n",
       "    }\n",
       "</style>\n",
       "<table border=\"1\" class=\"dataframe\">\n",
       "  <thead>\n",
       "    <tr style=\"text-align: right;\">\n",
       "      <th></th>\n",
       "      <th>date</th>\n",
       "      <th>article</th>\n",
       "    </tr>\n",
       "  </thead>\n",
       "  <tbody>\n",
       "    <tr>\n",
       "      <th>184817</th>\n",
       "      <td>2016-01-01</td>\n",
       "      <td>HONOLULU (Reuters) - Advancing gun control, cl...</td>\n",
       "    </tr>\n",
       "    <tr>\n",
       "      <th>379795</th>\n",
       "      <td>2016-01-01</td>\n",
       "      <td>This was supposed to be an election driven by ...</td>\n",
       "    </tr>\n",
       "    <tr>\n",
       "      <th>270652</th>\n",
       "      <td>2016-01-01</td>\n",
       "      <td>Skywriters had a stark message for Republican ...</td>\n",
       "    </tr>\n",
       "    <tr>\n",
       "      <th>285197</th>\n",
       "      <td>2016-01-01</td>\n",
       "      <td>Dropping out of a presidential race usually me...</td>\n",
       "    </tr>\n",
       "    <tr>\n",
       "      <th>163435</th>\n",
       "      <td>2016-01-01</td>\n",
       "      <td>LOS ANGELES — For big, fun, populist popcorn m...</td>\n",
       "    </tr>\n",
       "  </tbody>\n",
       "</table>\n",
       "</div>"
      ],
      "text/plain": [
       "             date                                            article\n",
       "184817 2016-01-01  HONOLULU (Reuters) - Advancing gun control, cl...\n",
       "379795 2016-01-01  This was supposed to be an election driven by ...\n",
       "270652 2016-01-01  Skywriters had a stark message for Republican ...\n",
       "285197 2016-01-01  Dropping out of a presidential race usually me...\n",
       "163435 2016-01-01  LOS ANGELES — For big, fun, populist popcorn m..."
      ]
     },
     "execution_count": 6,
     "metadata": {},
     "output_type": "execute_result"
    }
   ],
   "source": [
    "raw_data = raw_data.sort_values(by='date')\n",
    "raw_data.head()"
   ]
  },
  {
   "cell_type": "code",
   "execution_count": null,
   "metadata": {},
   "outputs": [],
   "source": [
    "from nltk.sentiment.vader import SentimentIntensityAnalyzer"
   ]
  }
 ],
 "metadata": {
  "kernelspec": {
   "display_name": "Python 3",
   "language": "python",
   "name": "python3"
  },
  "language_info": {
   "codemirror_mode": {
    "name": "ipython",
    "version": 3
   },
   "file_extension": ".py",
   "mimetype": "text/x-python",
   "name": "python",
   "nbconvert_exporter": "python",
   "pygments_lexer": "ipython3",
   "version": "3.7.3"
  }
 },
 "nbformat": 4,
 "nbformat_minor": 2
}
