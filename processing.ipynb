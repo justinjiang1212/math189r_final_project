{
 "cells": [
  {
   "cell_type": "code",
   "execution_count": 1,
   "metadata": {},
   "outputs": [],
   "source": [
    "import pandas as pd\n",
    "import numpy as np"
   ]
  },
  {
   "cell_type": "code",
   "execution_count": 8,
   "metadata": {},
   "outputs": [
    {
     "data": {
      "text/html": [
       "<div>\n",
       "<style scoped>\n",
       "    .dataframe tbody tr th:only-of-type {\n",
       "        vertical-align: middle;\n",
       "    }\n",
       "\n",
       "    .dataframe tbody tr th {\n",
       "        vertical-align: top;\n",
       "    }\n",
       "\n",
       "    .dataframe thead th {\n",
       "        text-align: right;\n",
       "    }\n",
       "</style>\n",
       "<table border=\"1\" class=\"dataframe\">\n",
       "  <thead>\n",
       "    <tr style=\"text-align: right;\">\n",
       "      <th></th>\n",
       "      <th>title</th>\n",
       "      <th>datetime</th>\n",
       "      <th>text</th>\n",
       "      <th>url</th>\n",
       "    </tr>\n",
       "  </thead>\n",
       "  <tbody>\n",
       "    <tr>\n",
       "      <th>0</th>\n",
       "      <td>As Trump refuses to lead, America tries to sav...</td>\n",
       "      <td>2020-07-16 01:24:09.385063</td>\n",
       "      <td>(CNN) President Donald Trump isn't leading Ame...</td>\n",
       "      <td>https://www.cnn.com/2020/07/16/politics/donald...</td>\n",
       "    </tr>\n",
       "    <tr>\n",
       "      <th>1</th>\n",
       "      <td>Fauci holds his ground against Navarro broadside</td>\n",
       "      <td>2020-07-16 01:24:10.364113</td>\n",
       "      <td>Fauci, in his most forceful pushback to date a...</td>\n",
       "      <td>https://www.cnn.com/2020/07/15/politics/donald...</td>\n",
       "    </tr>\n",
       "    <tr>\n",
       "      <th>2</th>\n",
       "      <td>Nick Cannon Finally Offers Apology for Anti-Se...</td>\n",
       "      <td>2020-07-16 01:24:12.387678</td>\n",
       "      <td>3 . This CBD Gel Is Great for My Aches, Pains,...</td>\n",
       "      <td>https://www.thedailybeast.com/nick-cannon-offe...</td>\n",
       "    </tr>\n",
       "    <tr>\n",
       "      <th>3</th>\n",
       "      <td>Blinded by science: A flailing president attac...</td>\n",
       "      <td>2020-07-16 01:24:21.849006</td>\n",
       "      <td>Fauci, who sounded the alarm about the serious...</td>\n",
       "      <td>https://www.nydailynews.com/opinion/ny-edit-fa...</td>\n",
       "    </tr>\n",
       "    <tr>\n",
       "      <th>4</th>\n",
       "      <td>Brad Parscale out as President Trump's campaig...</td>\n",
       "      <td>2020-07-16 01:24:24.728675</td>\n",
       "      <td>\\n</td>\n",
       "      <td>https://www.youtube.com/watch?v=X0I_uxGpSXE</td>\n",
       "    </tr>\n",
       "  </tbody>\n",
       "</table>\n",
       "</div>"
      ],
      "text/plain": [
       "                                               title  \\\n",
       "0  As Trump refuses to lead, America tries to sav...   \n",
       "1   Fauci holds his ground against Navarro broadside   \n",
       "2  Nick Cannon Finally Offers Apology for Anti-Se...   \n",
       "3  Blinded by science: A flailing president attac...   \n",
       "4  Brad Parscale out as President Trump's campaig...   \n",
       "\n",
       "                     datetime  \\\n",
       "0  2020-07-16 01:24:09.385063   \n",
       "1  2020-07-16 01:24:10.364113   \n",
       "2  2020-07-16 01:24:12.387678   \n",
       "3  2020-07-16 01:24:21.849006   \n",
       "4  2020-07-16 01:24:24.728675   \n",
       "\n",
       "                                                text  \\\n",
       "0  (CNN) President Donald Trump isn't leading Ame...   \n",
       "1  Fauci, in his most forceful pushback to date a...   \n",
       "2  3 . This CBD Gel Is Great for My Aches, Pains,...   \n",
       "3  Fauci, who sounded the alarm about the serious...   \n",
       "4                                                 \\n   \n",
       "\n",
       "                                                 url  \n",
       "0  https://www.cnn.com/2020/07/16/politics/donald...  \n",
       "1  https://www.cnn.com/2020/07/15/politics/donald...  \n",
       "2  https://www.thedailybeast.com/nick-cannon-offe...  \n",
       "3  https://www.nydailynews.com/opinion/ny-edit-fa...  \n",
       "4        https://www.youtube.com/watch?v=X0I_uxGpSXE  "
      ]
     },
     "execution_count": 8,
     "metadata": {},
     "output_type": "execute_result"
    }
   ],
   "source": [
    "titles = []\n",
    "datetimes = []\n",
    "texts = []\n",
    "urls = []\n",
    "with open('./articles.txt', 'r') as f:\n",
    "    line = f.readline()\n",
    "    while line:\n",
    "        l = line.split('|')\n",
    "        if len(l) == 4:\n",
    "            titles.append(l[0])\n",
    "            urls.append(l[1])\n",
    "            datetimes.append(l[2])\n",
    "            texts.append(l[3])\n",
    "        line = f.readline()\n",
    "df = pd.DataFrame(data = {'title':titles, 'datetime':datetimes, 'text':texts, 'url':urls})\n",
    "df.head()"
   ]
  },
  {
   "cell_type": "code",
   "execution_count": 9,
   "metadata": {},
   "outputs": [],
   "source": [
    "df.to_csv('./articles.csv')"
   ]
  },
  {
   "cell_type": "code",
   "execution_count": 10,
   "metadata": {},
   "outputs": [
    {
     "data": {
      "text/html": [
       "<div>\n",
       "<style scoped>\n",
       "    .dataframe tbody tr th:only-of-type {\n",
       "        vertical-align: middle;\n",
       "    }\n",
       "\n",
       "    .dataframe tbody tr th {\n",
       "        vertical-align: top;\n",
       "    }\n",
       "\n",
       "    .dataframe thead th {\n",
       "        text-align: right;\n",
       "    }\n",
       "</style>\n",
       "<table border=\"1\" class=\"dataframe\">\n",
       "  <thead>\n",
       "    <tr style=\"text-align: right;\">\n",
       "      <th></th>\n",
       "      <th>Unnamed: 0</th>\n",
       "      <th>title</th>\n",
       "      <th>datetime</th>\n",
       "      <th>text</th>\n",
       "      <th>url</th>\n",
       "    </tr>\n",
       "  </thead>\n",
       "  <tbody>\n",
       "    <tr>\n",
       "      <th>0</th>\n",
       "      <td>0</td>\n",
       "      <td>As Trump refuses to lead, America tries to sav...</td>\n",
       "      <td>2020-07-16 01:24:09.385063</td>\n",
       "      <td>(CNN) President Donald Trump isn't leading Ame...</td>\n",
       "      <td>https://www.cnn.com/2020/07/16/politics/donald...</td>\n",
       "    </tr>\n",
       "    <tr>\n",
       "      <th>1</th>\n",
       "      <td>1</td>\n",
       "      <td>Fauci holds his ground against Navarro broadside</td>\n",
       "      <td>2020-07-16 01:24:10.364113</td>\n",
       "      <td>Fauci, in his most forceful pushback to date a...</td>\n",
       "      <td>https://www.cnn.com/2020/07/15/politics/donald...</td>\n",
       "    </tr>\n",
       "    <tr>\n",
       "      <th>2</th>\n",
       "      <td>2</td>\n",
       "      <td>Nick Cannon Finally Offers Apology for Anti-Se...</td>\n",
       "      <td>2020-07-16 01:24:12.387678</td>\n",
       "      <td>3 . This CBD Gel Is Great for My Aches, Pains,...</td>\n",
       "      <td>https://www.thedailybeast.com/nick-cannon-offe...</td>\n",
       "    </tr>\n",
       "    <tr>\n",
       "      <th>3</th>\n",
       "      <td>3</td>\n",
       "      <td>Blinded by science: A flailing president attac...</td>\n",
       "      <td>2020-07-16 01:24:21.849006</td>\n",
       "      <td>Fauci, who sounded the alarm about the serious...</td>\n",
       "      <td>https://www.nydailynews.com/opinion/ny-edit-fa...</td>\n",
       "    </tr>\n",
       "    <tr>\n",
       "      <th>4</th>\n",
       "      <td>4</td>\n",
       "      <td>Brad Parscale out as President Trump's campaig...</td>\n",
       "      <td>2020-07-16 01:24:24.728675</td>\n",
       "      <td>\\n</td>\n",
       "      <td>https://www.youtube.com/watch?v=X0I_uxGpSXE</td>\n",
       "    </tr>\n",
       "  </tbody>\n",
       "</table>\n",
       "</div>"
      ],
      "text/plain": [
       "   Unnamed: 0                                              title  \\\n",
       "0           0  As Trump refuses to lead, America tries to sav...   \n",
       "1           1   Fauci holds his ground against Navarro broadside   \n",
       "2           2  Nick Cannon Finally Offers Apology for Anti-Se...   \n",
       "3           3  Blinded by science: A flailing president attac...   \n",
       "4           4  Brad Parscale out as President Trump's campaig...   \n",
       "\n",
       "                     datetime  \\\n",
       "0  2020-07-16 01:24:09.385063   \n",
       "1  2020-07-16 01:24:10.364113   \n",
       "2  2020-07-16 01:24:12.387678   \n",
       "3  2020-07-16 01:24:21.849006   \n",
       "4  2020-07-16 01:24:24.728675   \n",
       "\n",
       "                                                text  \\\n",
       "0  (CNN) President Donald Trump isn't leading Ame...   \n",
       "1  Fauci, in his most forceful pushback to date a...   \n",
       "2  3 . This CBD Gel Is Great for My Aches, Pains,...   \n",
       "3  Fauci, who sounded the alarm about the serious...   \n",
       "4                                                 \\n   \n",
       "\n",
       "                                                 url  \n",
       "0  https://www.cnn.com/2020/07/16/politics/donald...  \n",
       "1  https://www.cnn.com/2020/07/15/politics/donald...  \n",
       "2  https://www.thedailybeast.com/nick-cannon-offe...  \n",
       "3  https://www.nydailynews.com/opinion/ny-edit-fa...  \n",
       "4        https://www.youtube.com/watch?v=X0I_uxGpSXE  "
      ]
     },
     "execution_count": 10,
     "metadata": {},
     "output_type": "execute_result"
    }
   ],
   "source": [
    "df = pd.read_csv('./articles.csv')\n",
    "df.head()"
   ]
  },
  {
   "cell_type": "code",
   "execution_count": 11,
   "metadata": {},
   "outputs": [
    {
     "data": {
      "text/html": [
       "<div>\n",
       "<style scoped>\n",
       "    .dataframe tbody tr th:only-of-type {\n",
       "        vertical-align: middle;\n",
       "    }\n",
       "\n",
       "    .dataframe tbody tr th {\n",
       "        vertical-align: top;\n",
       "    }\n",
       "\n",
       "    .dataframe thead th {\n",
       "        text-align: right;\n",
       "    }\n",
       "</style>\n",
       "<table border=\"1\" class=\"dataframe\">\n",
       "  <thead>\n",
       "    <tr style=\"text-align: right;\">\n",
       "      <th></th>\n",
       "      <th>Senate Majority Leader Mitch McConnellAddison (Mitch) Mitchell McConnellAre Democrats turning Trump-like? House Democrat calls for gun control: Cities can ban plastic straws but 'we can't ban assault weapons?' Churches are arming and training congregants in response to mass shootings: report MORE (R-Ky.) on Sunday said he expects Congress will be able to avoid a government shutdown. \"I'm very confident. The two appropriations committees are working on the bill on a bipartisan basis,\" McConnell said on \"Fox News Sunday\" when asked about the risk of a government shutdown. \"We'll be talking to Senate Democrats. They will be relevant to this process. It will require 60 votes. I'm confident Senate Democrats are not going to want to shut down the government.\" Host Chris Wallace said there are a number of priorities President Trump and other Republicans want that Democrats find \"unacceptable.\" He pointed to the proposed funds for building a wall along the country's southern border and a proposed increase in defense spending. McConnell, however, said nobody wants a government shutdown. \"We're going to negotiate all of those items in the context of this funding bill, which will fund the government through Sept. 30,\" he said. \"We'll be debating these issues again for next year's appropriations, which start Oct. 1.\" The majority leader said every time there has been a government shutdown, Congress has been blamed as opposed to the president.  \"Congress owns the government shutdown brand. And there's no incentive, frankly, for either side, to go to the brink,\" he said. \"I think we're going to be able to work all of this out later this month.\" When pressed further on whether he would risk a government shutdown to ensure funding for the president's proposed border wall, McConnell said it all would be worked out on a bipartisan basis. \"The Democrats will be fully involved in the discussion — so will the president,\" he said.  \"We'll work it out and avoid any kind of catastrophic event.\" View the discussion thread. The Hill 1625 K Street, NW Suite 900 Washington DC 20006 | 202-628-8500 tel | 202-628-8503 fax The contents of this site are ©2019 Capitol Hill Publishing Corp., a subsidiary of News Communications, Inc.</th>\n",
       "    </tr>\n",
       "  </thead>\n",
       "  <tbody>\n",
       "    <tr>\n",
       "      <th>0</th>\n",
       "      <td>The Republican National Committee (RNC) met wi...</td>\n",
       "    </tr>\n",
       "    <tr>\n",
       "      <th>1</th>\n",
       "      <td>Hillary Clinton address the NYC explosion and ...</td>\n",
       "    </tr>\n",
       "    <tr>\n",
       "      <th>2</th>\n",
       "      <td>Sen. John CornynJohn CornynThe Hill's Campaign...</td>\n",
       "    </tr>\n",
       "    <tr>\n",
       "      <th>3</th>\n",
       "      <td>WATCH: Donald Trump asks Anderson Cooper why h...</td>\n",
       "    </tr>\n",
       "    <tr>\n",
       "      <th>4</th>\n",
       "      <td>I would like to address The Sentry Report foun...</td>\n",
       "    </tr>\n",
       "  </tbody>\n",
       "</table>\n",
       "</div>"
      ],
      "text/plain": [
       "  Senate Majority Leader Mitch McConnellAddison (Mitch) Mitchell McConnellAre Democrats turning Trump-like? House Democrat calls for gun control: Cities can ban plastic straws but 'we can't ban assault weapons?' Churches are arming and training congregants in response to mass shootings: report MORE (R-Ky.) on Sunday said he expects Congress will be able to avoid a government shutdown. \"I'm very confident. The two appropriations committees are working on the bill on a bipartisan basis,\" McConnell said on \"Fox News Sunday\" when asked about the risk of a government shutdown. \"We'll be talking to Senate Democrats. They will be relevant to this process. It will require 60 votes. I'm confident Senate Democrats are not going to want to shut down the government.\" Host Chris Wallace said there are a number of priorities President Trump and other Republicans want that Democrats find \"unacceptable.\" He pointed to the proposed funds for building a wall along the country's southern border and a proposed increase in defense spending. McConnell, however, said nobody wants a government shutdown. \"We're going to negotiate all of those items in the context of this funding bill, which will fund the government through Sept. 30,\" he said. \"We'll be debating these issues again for next year's appropriations, which start Oct. 1.\" The majority leader said every time there has been a government shutdown, Congress has been blamed as opposed to the president.  \"Congress owns the government shutdown brand. And there's no incentive, frankly, for either side, to go to the brink,\" he said. \"I think we're going to be able to work all of this out later this month.\" When pressed further on whether he would risk a government shutdown to ensure funding for the president's proposed border wall, McConnell said it all would be worked out on a bipartisan basis. \"The Democrats will be fully involved in the discussion — so will the president,\" he said.  \"We'll work it out and avoid any kind of catastrophic event.\" View the discussion thread. The Hill 1625 K Street, NW Suite 900 Washington DC 20006 | 202-628-8500 tel | 202-628-8503 fax The contents of this site are ©2019 Capitol Hill Publishing Corp., a subsidiary of News Communications, Inc.\n",
       "0  The Republican National Committee (RNC) met wi...                                                                                                                                                                                                                                                                                                                                                                                                                                                                                                                                                                                                                                                                                                                                                                                                                                                                                                                                                                                                                                                                                                                                                                                                                                                                                                                                                                                                                                                                                                                                                                                                                                                                                                                                                                                                                                                                                                                                                                                                                                                                                                                                                                                                                                                                           \n",
       "1  Hillary Clinton address the NYC explosion and ...                                                                                                                                                                                                                                                                                                                                                                                                                                                                                                                                                                                                                                                                                                                                                                                                                                                                                                                                                                                                                                                                                                                                                                                                                                                                                                                                                                                                                                                                                                                                                                                                                                                                                                                                                                                                                                                                                                                                                                                                                                                                                                                                                                                                                                                                           \n",
       "2  Sen. John CornynJohn CornynThe Hill's Campaign...                                                                                                                                                                                                                                                                                                                                                                                                                                                                                                                                                                                                                                                                                                                                                                                                                                                                                                                                                                                                                                                                                                                                                                                                                                                                                                                                                                                                                                                                                                                                                                                                                                                                                                                                                                                                                                                                                                                                                                                                                                                                                                                                                                                                                                                                           \n",
       "3  WATCH: Donald Trump asks Anderson Cooper why h...                                                                                                                                                                                                                                                                                                                                                                                                                                                                                                                                                                                                                                                                                                                                                                                                                                                                                                                                                                                                                                                                                                                                                                                                                                                                                                                                                                                                                                                                                                                                                                                                                                                                                                                                                                                                                                                                                                                                                                                                                                                                                                                                                                                                                                                                           \n",
       "4  I would like to address The Sentry Report foun...                                                                                                                                                                                                                                                                                                                                                                                                                                                                                                                                                                                                                                                                                                                                                                                                                                                                                                                                                                                                                                                                                                                                                                                                                                                                                                                                                                                                                                                                                                                                                                                                                                                                                                                                                                                                                                                                                                                                                                                                                                                                                                                                                                                                                                                                           "
      ]
     },
     "execution_count": 11,
     "metadata": {},
     "output_type": "execute_result"
    }
   ],
   "source": [
    "df = pd.read_csv('/Users/andyliu/Downloads/new_truncated.csv')\n",
    "df.head()"
   ]
  },
  {
   "cell_type": "code",
   "execution_count": 13,
   "metadata": {},
   "outputs": [
    {
     "data": {
      "text/plain": [
       "Index(['Senate Majority Leader Mitch McConnellAddison (Mitch) Mitchell McConnellAre Democrats turning Trump-like? House Democrat calls for gun control: Cities can ban plastic straws but 'we can't ban assault weapons?' Churches are arming and training congregants in response to mass shootings: report MORE (R-Ky.) on Sunday said he expects Congress will be able to avoid a government shutdown. \"I'm very confident. The two appropriations committees are working on the bill on a bipartisan basis,\" McConnell said on \"Fox News Sunday\" when asked about the risk of a government shutdown. \"We'll be talking to Senate Democrats. They will be relevant to this process. It will require 60 votes. I'm confident Senate Democrats are not going to want to shut down the government.\" Host Chris Wallace said there are a number of priorities President Trump and other Republicans want that Democrats find \"unacceptable.\" He pointed to the proposed funds for building a wall along the country's southern border and a proposed increase in defense spending. McConnell, however, said nobody wants a government shutdown. \"We're going to negotiate all of those items in the context of this funding bill, which will fund the government through Sept. 30,\" he said. \"We'll be debating these issues again for next year's appropriations, which start Oct. 1.\" The majority leader said every time there has been a government shutdown, Congress has been blamed as opposed to the president.  \"Congress owns the government shutdown brand. And there's no incentive, frankly, for either side, to go to the brink,\" he said. \"I think we're going to be able to work all of this out later this month.\" When pressed further on whether he would risk a government shutdown to ensure funding for the president's proposed border wall, McConnell said it all would be worked out on a bipartisan basis. \"The Democrats will be fully involved in the discussion — so will the president,\" he said.  \"We'll work it out and avoid any kind of catastrophic event.\" View the discussion thread. The Hill 1625 K Street, NW Suite 900 Washington DC 20006 | 202-628-8500 tel | 202-628-8503 fax The contents of this site are ©2019 Capitol Hill Publishing Corp., a subsidiary of News Communications, Inc.'], dtype='object')"
      ]
     },
     "execution_count": 13,
     "metadata": {},
     "output_type": "execute_result"
    }
   ],
   "source": [
    "df.columns"
   ]
  },
  {
   "cell_type": "code",
   "execution_count": null,
   "metadata": {},
   "outputs": [],
   "source": []
  }
 ],
 "metadata": {
  "kernelspec": {
   "display_name": "Python 3",
   "language": "python",
   "name": "python3"
  },
  "language_info": {
   "codemirror_mode": {
    "name": "ipython",
    "version": 3
   },
   "file_extension": ".py",
   "mimetype": "text/x-python",
   "name": "python",
   "nbconvert_exporter": "python",
   "pygments_lexer": "ipython3",
   "version": "3.7.3"
  }
 },
 "nbformat": 4,
 "nbformat_minor": 2
}
